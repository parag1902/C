{
  "nbformat": 4,
  "nbformat_minor": 0,
  "metadata": {
    "colab": {
      "provenance": [],
      "authorship_tag": "ABX9TyN8omf1zf/5lDv2b5PHXTLm",
      "include_colab_link": true
    },
    "kernelspec": {
      "name": "python3",
      "display_name": "Python 3"
    },
    "language_info": {
      "name": "python"
    }
  },
  "cells": [
    {
      "cell_type": "markdown",
      "metadata": {
        "id": "view-in-github",
        "colab_type": "text"
      },
      "source": [
        "<a href=\"https://colab.research.google.com/github/parag1902/C/blob/main/Credit_Card_Fraud_Detection.ipynb\" target=\"_parent\"><img src=\"https://colab.research.google.com/assets/colab-badge.svg\" alt=\"Open In Colab\"/></a>"
      ]
    },
    {
      "cell_type": "markdown",
      "source": [
        "Importing the Dependecies"
      ],
      "metadata": {
        "id": "7jxdfA--3IzE"
      }
    },
    {
      "cell_type": "code",
      "execution_count": 109,
      "metadata": {
        "id": "89P6zhWJ2e2D"
      },
      "outputs": [],
      "source": [
        "import numpy as np\n",
        "import pandas as pd\n",
        "from sklearn.model_selection import train_test_split\n",
        "from sklearn.linear_model import LogisticRegression\n",
        "from sklearn.metrics import accuracy_score"
      ]
    },
    {
      "cell_type": "code",
      "source": [
        "#Loading Credit Card CSV file to Pandas Dataframe\n",
        "credit_card_data=pd.read_csv('/content/creditcard.csv')"
      ],
      "metadata": {
        "id": "Srm1YmUV6BJ-"
      },
      "execution_count": 110,
      "outputs": []
    },
    {
      "cell_type": "code",
      "source": [
        "credit_card_data.shape"
      ],
      "metadata": {
        "id": "r9tTMSPG3Mik"
      },
      "execution_count": null,
      "outputs": []
    },
    {
      "cell_type": "code",
      "source": [
        "#First Five Rows of a dataframe\n",
        "credit_card_data.head()"
      ],
      "metadata": {
        "id": "Qgbwfm1n7lhd"
      },
      "execution_count": null,
      "outputs": []
    },
    {
      "cell_type": "code",
      "source": [
        "#Last Five Rows of a dataframe\n",
        "credit_card_data.tail()"
      ],
      "metadata": {
        "id": "cWe04xvf7n2i"
      },
      "execution_count": null,
      "outputs": []
    },
    {
      "cell_type": "markdown",
      "source": [
        "Here class 0 represents Legit Transaaction and 1 represents fraudulant Transaction"
      ],
      "metadata": {
        "id": "SPtGUAyb71vn"
      }
    },
    {
      "cell_type": "code",
      "source": [
        "# Dataset Information\n",
        "credit_card_data.info()"
      ],
      "metadata": {
        "id": "05rEpB9v8No8"
      },
      "execution_count": null,
      "outputs": []
    },
    {
      "cell_type": "code",
      "source": [
        "#Checking The missing values in each column\n",
        "credit_card_data.isnull().sum()"
      ],
      "metadata": {
        "id": "XM1kH7-F8Vii"
      },
      "execution_count": null,
      "outputs": []
    },
    {
      "cell_type": "markdown",
      "source": [
        "Here we dont have any missing values"
      ],
      "metadata": {
        "id": "COD6p7pS84yi"
      }
    },
    {
      "cell_type": "code",
      "source": [
        "# Distribution of Legit Transaction & Fraudulent Transaction\n",
        "credit_card_data['Class'].value_counts()"
      ],
      "metadata": {
        "id": "QJP6o0qA8tIo"
      },
      "execution_count": null,
      "outputs": []
    },
    {
      "cell_type": "markdown",
      "source": [
        "So here we have 55394 legit transation and 156 fraudulent transaction"
      ],
      "metadata": {
        "id": "yK8POen59r5X"
      }
    },
    {
      "cell_type": "markdown",
      "source": [
        "In this dataset most of the datapoints are for legit transation and very less for for fraudulent so we have to balance this dataset "
      ],
      "metadata": {
        "id": "LsFm2eaw9_Ib"
      }
    },
    {
      "cell_type": "code",
      "source": [
        "# Seperating the data for analysis\n",
        "legit=credit_card_data[credit_card_data.Class==0]\n",
        "fraud=credit_card_data[credit_card_data.Class==1]"
      ],
      "metadata": {
        "id": "dCdi07M49n3X"
      },
      "execution_count": 117,
      "outputs": []
    },
    {
      "cell_type": "code",
      "source": [
        "print(legit.shape)\n",
        "print(fraud.shape)"
      ],
      "metadata": {
        "id": "dEzl-XYP_RZc"
      },
      "execution_count": null,
      "outputs": []
    },
    {
      "cell_type": "code",
      "source": [
        "# Stastical Measures of the legit transation\n",
        "legit.Amount.describe()"
      ],
      "metadata": {
        "id": "vizNIK0B_ZEs"
      },
      "execution_count": null,
      "outputs": []
    },
    {
      "cell_type": "code",
      "source": [
        "# Stastical Measures of the fraudulent transation\n",
        "fraud.Amount.describe()"
      ],
      "metadata": {
        "id": "_Sad_jfV_tFi"
      },
      "execution_count": null,
      "outputs": []
    },
    {
      "cell_type": "code",
      "source": [
        "# Comapre the values for both transation\n",
        "credit_card_data.groupby('Class').mean()"
      ],
      "metadata": {
        "id": "Hho04bVFAHyo"
      },
      "execution_count": null,
      "outputs": []
    },
    {
      "cell_type": "markdown",
      "source": [
        "We can observe that the differnce between legit and fraudulent transation is that there mean has huge differnce"
      ],
      "metadata": {
        "id": "7puT-O4AAtNN"
      }
    },
    {
      "cell_type": "markdown",
      "source": [
        "Under_Sampling"
      ],
      "metadata": {
        "id": "OadWMd4xBB1w"
      }
    },
    {
      "cell_type": "markdown",
      "source": [
        "Built a sample dataset containing of legit and fraudulent transation"
      ],
      "metadata": {
        "id": "ZuJiu95vBGEP"
      }
    },
    {
      "cell_type": "code",
      "source": [
        "legit_sample=legit.sample(n=492)"
      ],
      "metadata": {
        "id": "tQkMUGpeAnSB"
      },
      "execution_count": 122,
      "outputs": []
    },
    {
      "cell_type": "markdown",
      "source": [
        "Concatenating two datafranmes"
      ],
      "metadata": {
        "id": "bx5F2QdzB6xW"
      }
    },
    {
      "cell_type": "code",
      "source": [
        "new_dataset=pd.concat([legit_sample,fraud],axis=0)"
      ],
      "metadata": {
        "id": "JBPLQ8LgB4c-"
      },
      "execution_count": 123,
      "outputs": []
    },
    {
      "cell_type": "code",
      "source": [
        "new_dataset.head()"
      ],
      "metadata": {
        "id": "3zHpc8VsCSDO"
      },
      "execution_count": null,
      "outputs": []
    },
    {
      "cell_type": "code",
      "source": [
        "new_dataset.tail()"
      ],
      "metadata": {
        "id": "4Pz0KKCdCUyd"
      },
      "execution_count": null,
      "outputs": []
    },
    {
      "cell_type": "code",
      "source": [
        "new_dataset['Class'].value_counts()"
      ],
      "metadata": {
        "id": "ivwPBWlzCcw0"
      },
      "execution_count": null,
      "outputs": []
    },
    {
      "cell_type": "markdown",
      "source": [
        "Here we can see that now we are having uniformly seperated value\n",
        "\n",
        "\n"
      ],
      "metadata": {
        "id": "QLtisFIpCviQ"
      }
    },
    {
      "cell_type": "code",
      "source": [
        "new_dataset.groupby('Class').mean()"
      ],
      "metadata": {
        "id": "I-mvPXZQCod_"
      },
      "execution_count": null,
      "outputs": []
    },
    {
      "cell_type": "markdown",
      "source": [
        "Spliting the data into features & targets"
      ],
      "metadata": {
        "id": "g--wI3tVDYul"
      }
    },
    {
      "cell_type": "code",
      "source": [
        "X=new_dataset.drop(columns='Class',axis=1)\n",
        "Y=new_dataset['Class']"
      ],
      "metadata": {
        "id": "nx6HoJ5pDFek"
      },
      "execution_count": 128,
      "outputs": []
    },
    {
      "cell_type": "code",
      "source": [
        "print(X)"
      ],
      "metadata": {
        "id": "V34_sQX4YlwV"
      },
      "execution_count": null,
      "outputs": []
    },
    {
      "cell_type": "code",
      "source": [
        "print(Y)\n"
      ],
      "metadata": {
        "id": "nRp_anIrZdXr"
      },
      "execution_count": null,
      "outputs": []
    },
    {
      "cell_type": "markdown",
      "source": [
        "Split the Data into Training data and testing data"
      ],
      "metadata": {
        "id": "MiYTLE2KZvcc"
      }
    },
    {
      "cell_type": "code",
      "source": [
        "X_train, X_test, Y_train,Y_test=train_test_split(X,Y,test_size=0.2,stratify=Y,random_state=2)"
      ],
      "metadata": {
        "id": "l4PnPGnfZenY"
      },
      "execution_count": 131,
      "outputs": []
    },
    {
      "cell_type": "code",
      "source": [
        "print(X.shape,X_train.shape,X_test.shape)"
      ],
      "metadata": {
        "id": "8MucZcnjb4lx"
      },
      "execution_count": null,
      "outputs": []
    },
    {
      "cell_type": "markdown",
      "source": [
        "Model Training"
      ],
      "metadata": {
        "id": "7a7_X9OrHNz2"
      }
    },
    {
      "cell_type": "code",
      "source": [
        "model=LogisticRegression()"
      ],
      "metadata": {
        "id": "wIGFuW2CcDlx"
      },
      "execution_count": 133,
      "outputs": []
    },
    {
      "cell_type": "code",
      "source": [
        "#Training the logistic regression model with training data\n",
        "model.fit(X_train,Y_train)"
      ],
      "metadata": {
        "id": "bOZ-yet6HVVq"
      },
      "execution_count": null,
      "outputs": []
    },
    {
      "cell_type": "markdown",
      "source": [
        "Model Evalution"
      ],
      "metadata": {
        "id": "HvSxI85CH1xl"
      }
    },
    {
      "cell_type": "markdown",
      "source": [
        "Accuracy Score:"
      ],
      "metadata": {
        "id": "otre6qCeH58o"
      }
    },
    {
      "cell_type": "code",
      "source": [
        "# accuracy on training data\n",
        "X_train_prediction=model.predict(X_train)\n",
        "training_data_accuracy=accuracy_score(X_train_prediction,Y_train)"
      ],
      "metadata": {
        "id": "X3NYm95uHplQ"
      },
      "execution_count": 137,
      "outputs": []
    },
    {
      "cell_type": "code",
      "source": [
        "print('Accuracy on training data',training_data_accuracy)"
      ],
      "metadata": {
        "colab": {
          "base_uri": "https://localhost:8080/"
        },
        "id": "Ab3pOBcDIm1G",
        "outputId": "59de8866-2847-4c17-a357-3e6d72ecced8"
      },
      "execution_count": 138,
      "outputs": [
        {
          "output_type": "stream",
          "name": "stdout",
          "text": [
            "Accuracy on training data 0.940279542566709\n"
          ]
        }
      ]
    },
    {
      "cell_type": "markdown",
      "source": [
        "Here we are geting 94.02% accurate prediction on training data"
      ],
      "metadata": {
        "id": "wRH00K00IwaH"
      }
    },
    {
      "cell_type": "code",
      "source": [
        "# accuracy on testing data\n",
        "X_test_prediction=model.predict(X_test)\n",
        "test_data_accuracy=accuracy_score(X_test_prediction,Y_test)"
      ],
      "metadata": {
        "id": "-xyJQlCyIuJ2"
      },
      "execution_count": 139,
      "outputs": []
    },
    {
      "cell_type": "code",
      "source": [
        "print('Accuracy score of the test data',test_data_accuracy)"
      ],
      "metadata": {
        "colab": {
          "base_uri": "https://localhost:8080/"
        },
        "id": "6kqc2y5DJWAd",
        "outputId": "a6406c7a-a7a9-474f-f37d-bf0b31240f66"
      },
      "execution_count": 140,
      "outputs": [
        {
          "output_type": "stream",
          "name": "stdout",
          "text": [
            "Accuracy score of the test data 0.9390862944162437\n"
          ]
        }
      ]
    },
    {
      "cell_type": "markdown",
      "source": [
        "Here We are getting 93.90% accurate prediction on testing data "
      ],
      "metadata": {
        "id": "0E5TpXojJi67"
      }
    },
    {
      "cell_type": "code",
      "source": [],
      "metadata": {
        "id": "N_rnQPPiJgdd"
      },
      "execution_count": null,
      "outputs": []
    }
  ]
}